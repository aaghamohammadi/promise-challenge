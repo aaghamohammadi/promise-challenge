{
 "cells": [
  {
   "cell_type": "markdown",
   "id": "1e35779b-b240-48aa-95e7-d59ed879fd26",
   "metadata": {},
   "source": [
    "# Definitions and Loading"
   ]
  },
  {
   "cell_type": "code",
   "execution_count": 1,
   "id": "d76af205-858c-4cd1-b4f4-cf2e3c24cf29",
   "metadata": {},
   "outputs": [],
   "source": [
    "import numpy as np\n",
    "import pandas as pd\n",
    "import matplotlib.pyplot as plt\n",
    "from autorank import autorank, create_report\n",
    "from IPython.display import display, HTML\n",
    "import seaborn as sns\n",
    "from os import listdir\n",
    "\n",
    "def show_results(metric, order='ascending'):\n",
    "    result_df = pd.DataFrame()\n",
    "    for approach, score in scores.items():\n",
    "        result_df[approach] = score[metric]\n",
    "\n",
    "    res = autorank(result_df, order=order, approach='bayesian')\n",
    "\n",
    "    display(res.rankdf)\n",
    "    fig, ax = plt.subplots()\n",
    "    sns.boxplot(data=result_df, ax=ax)\n",
    "    sns.swarmplot(data=result_df, ax=ax)\n",
    "    plt.show()\n",
    "    create_report(res)\n",
    "\n",
    "scores = {}\n",
    "for file in listdir('../scores'):\n",
    "    if file.endswith('.csv'):\n",
    "        approach = file.split('.')[0]\n",
    "        cur_scores = pd.read_csv('../scores/'+file)\n",
    "        cur_scores = cur_scores.sort_values('project')\n",
    "        scores[approach] = cur_scores"
   ]
  },
  {
   "cell_type": "markdown",
   "id": "fa94cd91-5d9e-4bae-95a7-94bacb627a12",
   "metadata": {},
   "source": [
    "# MCC"
   ]
  },
  {
   "cell_type": "code",
   "execution_count": 2,
   "id": "2ba83c0f-c08a-453b-b093-645577875ab8",
   "metadata": {},
   "outputs": [
    {
     "name": "stderr",
     "output_type": "stream",
     "text": [
      "/home/sherbold/git/promise-challenge/notebooks/venv/lib/python3.8/site-packages/scipy/stats/morestats.py:1678: UserWarning: Input data for shapiro has range zero. The results may not be accurate.\n",
      "  warnings.warn(\"Input data for shapiro has range zero. The results \"\n",
      "/home/sherbold/git/promise-challenge/notebooks/venv/lib/python3.8/site-packages/autorank/_util.py:107: RuntimeWarning: invalid value encountered in double_scalars\n",
      "  return (np.median(x) - np.median(y)) / _pooled_mad(x, y)\n"
     ]
    },
    {
     "data": {
      "text/html": [
       "<div>\n",
       "<style scoped>\n",
       "    .dataframe tbody tr th:only-of-type {\n",
       "        vertical-align: middle;\n",
       "    }\n",
       "\n",
       "    .dataframe tbody tr th {\n",
       "        vertical-align: top;\n",
       "    }\n",
       "\n",
       "    .dataframe thead th {\n",
       "        text-align: right;\n",
       "    }\n",
       "</style>\n",
       "<table border=\"1\" class=\"dataframe\">\n",
       "  <thead>\n",
       "    <tr style=\"text-align: right;\">\n",
       "      <th></th>\n",
       "      <th>median</th>\n",
       "      <th>mad</th>\n",
       "      <th>ci_lower</th>\n",
       "      <th>ci_upper</th>\n",
       "      <th>effect_size</th>\n",
       "      <th>magnitude</th>\n",
       "      <th>p_equal</th>\n",
       "      <th>p_smaller</th>\n",
       "      <th>decision</th>\n",
       "    </tr>\n",
       "  </thead>\n",
       "  <tbody>\n",
       "    <tr>\n",
       "      <th>baseline_all</th>\n",
       "      <td>0.00000</td>\n",
       "      <td>0.0</td>\n",
       "      <td>0.0</td>\n",
       "      <td>0.0</td>\n",
       "      <td>NaN</td>\n",
       "      <td>large</td>\n",
       "      <td>NaN</td>\n",
       "      <td>NaN</td>\n",
       "      <td>NA</td>\n",
       "    </tr>\n",
       "    <tr>\n",
       "      <th>baseline_none</th>\n",
       "      <td>0.00000</td>\n",
       "      <td>0.0</td>\n",
       "      <td>0.0</td>\n",
       "      <td>0.0</td>\n",
       "      <td>NaN</td>\n",
       "      <td>large</td>\n",
       "      <td>0.00000</td>\n",
       "      <td>0.69344</td>\n",
       "      <td>inconclusive</td>\n",
       "    </tr>\n",
       "    <tr>\n",
       "      <th>baseline_rf_all</th>\n",
       "      <td>0.00000</td>\n",
       "      <td>0.013425</td>\n",
       "      <td>-0.013723</td>\n",
       "      <td>0.151953</td>\n",
       "      <td>0.0</td>\n",
       "      <td>negligible</td>\n",
       "      <td>0.09288</td>\n",
       "      <td>0.14896</td>\n",
       "      <td>inconclusive</td>\n",
       "    </tr>\n",
       "    <tr>\n",
       "      <th>baseline_rf_wp</th>\n",
       "      <td>0.02677</td>\n",
       "      <td>NaN</td>\n",
       "      <td>0.0</td>\n",
       "      <td>NaN</td>\n",
       "      <td>NaN</td>\n",
       "      <td>large</td>\n",
       "      <td>0.00000</td>\n",
       "      <td>0.72946</td>\n",
       "      <td>inconclusive</td>\n",
       "    </tr>\n",
       "  </tbody>\n",
       "</table>\n",
       "</div>"
      ],
      "text/plain": [
       "                  median       mad  ci_lower  ci_upper effect_size  \\\n",
       "baseline_all     0.00000       0.0       0.0       0.0         NaN   \n",
       "baseline_none    0.00000       0.0       0.0       0.0         NaN   \n",
       "baseline_rf_all  0.00000  0.013425 -0.013723  0.151953         0.0   \n",
       "baseline_rf_wp   0.02677       NaN       0.0       NaN         NaN   \n",
       "\n",
       "                  magnitude  p_equal  p_smaller      decision  \n",
       "baseline_all          large      NaN        NaN            NA  \n",
       "baseline_none         large  0.00000    0.69344  inconclusive  \n",
       "baseline_rf_all  negligible  0.09288    0.14896  inconclusive  \n",
       "baseline_rf_wp        large  0.00000    0.72946  inconclusive  "
      ]
     },
     "metadata": {},
     "output_type": "display_data"
    },
    {
     "data": {
      "image/png": "[encoded data removed]",
      "text/plain": [
       "<Figure size 432x288 with 1 Axes>"
      ]
     },
     "metadata": {
      "needs_background": "light"
     },
     "output_type": "display_data"
    },
    {
     "name": "stdout",
     "output_type": "stream",
     "text": [
      "The statistical analysis was conducted for 4 populations with 8 paired samples.\n",
      "The family-wise significance level of the tests is alpha=0.050.\n",
      "We rejected the null hypothesis that the population is normal for the population baseline_rf_all (p=0.009). Therefore, we assume that not all populations are normal.\n",
      "We used a bayesian signed rank test to determine differences between the mean values of the populations and report the median (MD) and the median absolute deviation (MAD) for each population. We distinguish between populations being pair-wise smaller, equal, or larger and make a decision for one of these cases if we estimate that the posterior probability is at least alpha=0.050.\n",
      "We used the effect size to define the region of practical equivalence (ROPE) around the median dynamically as 0.100*gamma.\n",
      "We failed to find any conclusive evidence for differences between the populations baseline_all (MD=0.000+-0.000, MAD=0.000), baseline_none (MD=0.000+-0.000, MAD=0.000), baseline_rf_all (MD=0.000+-0.083, MAD=0.013), and baseline_rf_wp (MD=0.027+-nan, MAD=nan).\n"
     ]
    }
   ],
   "source": [
    "show_results('mcc')"
   ]
  },
  {
   "cell_type": "markdown",
   "id": "4cbd5ec3-551f-4d62-ac55-2bc958963411",
   "metadata": {},
   "source": [
    "# Costs (C=1000)"
   ]
  },
  {
   "cell_type": "code",
   "execution_count": 3,
   "id": "2c4cc7f9-6619-4ff2-869b-aaa245102eda",
   "metadata": {},
   "outputs": [
    {
     "data": {
      "text/html": [
       "<div>\n",
       "<style scoped>\n",
       "    .dataframe tbody tr th:only-of-type {\n",
       "        vertical-align: middle;\n",
       "    }\n",
       "\n",
       "    .dataframe tbody tr th {\n",
       "        vertical-align: top;\n",
       "    }\n",
       "\n",
       "    .dataframe thead th {\n",
       "        text-align: right;\n",
       "    }\n",
       "</style>\n",
       "<table border=\"1\" class=\"dataframe\">\n",
       "  <thead>\n",
       "    <tr style=\"text-align: right;\">\n",
       "      <th></th>\n",
       "      <th>median</th>\n",
       "      <th>mad</th>\n",
       "      <th>ci_lower</th>\n",
       "      <th>ci_upper</th>\n",
       "      <th>effect_size</th>\n",
       "      <th>magnitude</th>\n",
       "      <th>p_equal</th>\n",
       "      <th>p_smaller</th>\n",
       "      <th>decision</th>\n",
       "    </tr>\n",
       "  </thead>\n",
       "  <tbody>\n",
       "    <tr>\n",
       "      <th>baseline_all</th>\n",
       "      <td>45773.5</td>\n",
       "      <td>23011.4346</td>\n",
       "      <td>15719</td>\n",
       "      <td>239810</td>\n",
       "      <td>0.0</td>\n",
       "      <td>negligible</td>\n",
       "      <td>NaN</td>\n",
       "      <td>NaN</td>\n",
       "      <td>NA</td>\n",
       "    </tr>\n",
       "    <tr>\n",
       "      <th>baseline_rf_wp</th>\n",
       "      <td>23969.0</td>\n",
       "      <td>NaN</td>\n",
       "      <td>4835.0</td>\n",
       "      <td>NaN</td>\n",
       "      <td>NaN</td>\n",
       "      <td>large</td>\n",
       "      <td>0.00000</td>\n",
       "      <td>0.99682</td>\n",
       "      <td>smaller</td>\n",
       "    </tr>\n",
       "    <tr>\n",
       "      <th>baseline_rf_all</th>\n",
       "      <td>23770.0</td>\n",
       "      <td>24561.4929</td>\n",
       "      <td>428</td>\n",
       "      <td>73600</td>\n",
       "      <td>0.924552</td>\n",
       "      <td>large</td>\n",
       "      <td>0.00020</td>\n",
       "      <td>0.93406</td>\n",
       "      <td>inconclusive</td>\n",
       "    </tr>\n",
       "    <tr>\n",
       "      <th>baseline_none</th>\n",
       "      <td>23500.0</td>\n",
       "      <td>22239.0</td>\n",
       "      <td>0</td>\n",
       "      <td>73000</td>\n",
       "      <td>0.984311</td>\n",
       "      <td>large</td>\n",
       "      <td>0.00034</td>\n",
       "      <td>0.94560</td>\n",
       "      <td>inconclusive</td>\n",
       "    </tr>\n",
       "  </tbody>\n",
       "</table>\n",
       "</div>"
      ],
      "text/plain": [
       "                  median         mad ci_lower ci_upper effect_size  \\\n",
       "baseline_all     45773.5  23011.4346    15719   239810         0.0   \n",
       "baseline_rf_wp   23969.0         NaN   4835.0      NaN         NaN   \n",
       "baseline_rf_all  23770.0  24561.4929      428    73600    0.924552   \n",
       "baseline_none    23500.0     22239.0        0    73000    0.984311   \n",
       "\n",
       "                  magnitude  p_equal  p_smaller      decision  \n",
       "baseline_all     negligible      NaN        NaN            NA  \n",
       "baseline_rf_wp        large  0.00000    0.99682       smaller  \n",
       "baseline_rf_all       large  0.00020    0.93406  inconclusive  \n",
       "baseline_none         large  0.00034    0.94560  inconclusive  "
      ]
     },
     "metadata": {},
     "output_type": "display_data"
    },
    {
     "data": {
      "image/png": "[encoded data removed]",
      "text/plain": [
       "<Figure size 432x288 with 1 Axes>"
      ]
     },
     "metadata": {
      "needs_background": "light"
     },
     "output_type": "display_data"
    },
    {
     "name": "stdout",
     "output_type": "stream",
     "text": [
      "The statistical analysis was conducted for 4 populations with 8 paired samples.\n",
      "The family-wise significance level of the tests is alpha=0.050.\n",
      "We rejected the null hypothesis that the population is normal for the population baseline_all (p=0.001). Therefore, we assume that not all populations are normal.\n",
      "We used a bayesian signed rank test to determine differences between the mean values of the populations and report the median (MD) and the median absolute deviation (MAD) for each population. We distinguish between populations being pair-wise smaller, equal, or larger and make a decision for one of these cases if we estimate that the posterior probability is at least alpha=0.050.\n",
      "We used the effect size to define the region of practical equivalence (ROPE) around the median dynamically as 0.100*gamma.\n",
      "We found significant and practically relevant differences between the populations baseline_all (MD=45773.500+-112045.500, MAD=23011.435), baseline_rf_wp (MD=23969.000+-nan, MAD=nan), baseline_rf_all (MD=23770.000+-36586.000, MAD=24561.493), and baseline_none (MD=23500.000+-36500.000, MAD=22239.000).\n",
      "The median of the population baseline_all is larger than of the populations baseline_rf_wp.\n",
      "The following pairs of populations are equal: baseline_rf_all and baseline_none.\n",
      "All other differences are inconclusive.\n"
     ]
    }
   ],
   "source": [
    "show_results('cost_1000', order='descending')"
   ]
  },
  {
   "cell_type": "markdown",
   "id": "700f8131-c138-426a-b7ad-43bbc83880ea",
   "metadata": {},
   "source": [
    "# Costs (C=10000)"
   ]
  },
  {
   "cell_type": "code",
   "execution_count": 4,
   "id": "c4e487f6-caf3-4607-bf9e-bcfb8f1a5e5a",
   "metadata": {},
   "outputs": [
    {
     "data": {
      "text/html": [
       "<div>\n",
       "<style scoped>\n",
       "    .dataframe tbody tr th:only-of-type {\n",
       "        vertical-align: middle;\n",
       "    }\n",
       "\n",
       "    .dataframe tbody tr th {\n",
       "        vertical-align: top;\n",
       "    }\n",
       "\n",
       "    .dataframe thead th {\n",
       "        text-align: right;\n",
       "    }\n",
       "</style>\n",
       "<table border=\"1\" class=\"dataframe\">\n",
       "  <thead>\n",
       "    <tr style=\"text-align: right;\">\n",
       "      <th></th>\n",
       "      <th>median</th>\n",
       "      <th>mad</th>\n",
       "      <th>ci_lower</th>\n",
       "      <th>ci_upper</th>\n",
       "      <th>effect_size</th>\n",
       "      <th>magnitude</th>\n",
       "      <th>p_equal</th>\n",
       "      <th>p_smaller</th>\n",
       "      <th>decision</th>\n",
       "    </tr>\n",
       "  </thead>\n",
       "  <tbody>\n",
       "    <tr>\n",
       "      <th>baseline_all</th>\n",
       "      <td>45773.5</td>\n",
       "      <td>23011.4346</td>\n",
       "      <td>15719</td>\n",
       "      <td>239810</td>\n",
       "      <td>0.0</td>\n",
       "      <td>negligible</td>\n",
       "      <td>NaN</td>\n",
       "      <td>NaN</td>\n",
       "      <td>NA</td>\n",
       "    </tr>\n",
       "    <tr>\n",
       "      <th>baseline_rf_wp</th>\n",
       "      <td>23969.0</td>\n",
       "      <td>NaN</td>\n",
       "      <td>4835.0</td>\n",
       "      <td>NaN</td>\n",
       "      <td>NaN</td>\n",
       "      <td>large</td>\n",
       "      <td>0.00000</td>\n",
       "      <td>0.99620</td>\n",
       "      <td>smaller</td>\n",
       "    </tr>\n",
       "    <tr>\n",
       "      <th>baseline_rf_all</th>\n",
       "      <td>23770.0</td>\n",
       "      <td>24561.4929</td>\n",
       "      <td>428</td>\n",
       "      <td>73600</td>\n",
       "      <td>0.924552</td>\n",
       "      <td>large</td>\n",
       "      <td>0.00018</td>\n",
       "      <td>0.93604</td>\n",
       "      <td>inconclusive</td>\n",
       "    </tr>\n",
       "    <tr>\n",
       "      <th>baseline_none</th>\n",
       "      <td>23500.0</td>\n",
       "      <td>22239.0</td>\n",
       "      <td>0</td>\n",
       "      <td>73000</td>\n",
       "      <td>0.984311</td>\n",
       "      <td>large</td>\n",
       "      <td>0.00026</td>\n",
       "      <td>0.94558</td>\n",
       "      <td>inconclusive</td>\n",
       "    </tr>\n",
       "  </tbody>\n",
       "</table>\n",
       "</div>"
      ],
      "text/plain": [
       "                  median         mad ci_lower ci_upper effect_size  \\\n",
       "baseline_all     45773.5  23011.4346    15719   239810         0.0   \n",
       "baseline_rf_wp   23969.0         NaN   4835.0      NaN         NaN   \n",
       "baseline_rf_all  23770.0  24561.4929      428    73600    0.924552   \n",
       "baseline_none    23500.0     22239.0        0    73000    0.984311   \n",
       "\n",
       "                  magnitude  p_equal  p_smaller      decision  \n",
       "baseline_all     negligible      NaN        NaN            NA  \n",
       "baseline_rf_wp        large  0.00000    0.99620       smaller  \n",
       "baseline_rf_all       large  0.00018    0.93604  inconclusive  \n",
       "baseline_none         large  0.00026    0.94558  inconclusive  "
      ]
     },
     "metadata": {},
     "output_type": "display_data"
    },
    {
     "data": {
      "image/png": "[encoded data removed]",
      "text/plain": [
       "<Figure size 432x288 with 1 Axes>"
      ]
     },
     "metadata": {
      "needs_background": "light"
     },
     "output_type": "display_data"
    },
    {
     "name": "stdout",
     "output_type": "stream",
     "text": [
      "The statistical analysis was conducted for 4 populations with 8 paired samples.\n",
      "The family-wise significance level of the tests is alpha=0.050.\n",
      "We rejected the null hypothesis that the population is normal for the population baseline_all (p=0.001). Therefore, we assume that not all populations are normal.\n",
      "We used a bayesian signed rank test to determine differences between the mean values of the populations and report the median (MD) and the median absolute deviation (MAD) for each population. We distinguish between populations being pair-wise smaller, equal, or larger and make a decision for one of these cases if we estimate that the posterior probability is at least alpha=0.050.\n",
      "We used the effect size to define the region of practical equivalence (ROPE) around the median dynamically as 0.100*gamma.\n",
      "We found significant and practically relevant differences between the populations baseline_all (MD=45773.500+-112045.500, MAD=23011.435), baseline_rf_wp (MD=23969.000+-nan, MAD=nan), baseline_rf_all (MD=23770.000+-36586.000, MAD=24561.493), and baseline_none (MD=23500.000+-36500.000, MAD=22239.000).\n",
      "The median of the population baseline_all is larger than of the populations baseline_rf_wp.\n",
      "The following pairs of populations are equal: baseline_rf_all and baseline_none.\n",
      "All other differences are inconclusive.\n"
     ]
    }
   ],
   "source": [
    "show_results('cost_1000', order='descending')"
   ]
  }
 ],
 "metadata": {
  "kernelspec": {
   "display_name": "Python 3",
   "language": "python",
   "name": "python3"
  },
  "language_info": {
   "codemirror_mode": {
    "name": "ipython",
    "version": 3
   },
   "file_extension": ".py",
   "mimetype": "text/x-python",
   "name": "python",
   "nbconvert_exporter": "python",
   "pygments_lexer": "ipython3",
   "version": "3.8.5"
  }
 },
 "nbformat": 4,
 "nbformat_minor": 5
}
