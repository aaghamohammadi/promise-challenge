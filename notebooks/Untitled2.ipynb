{
 "cells": [
  {
   "cell_type": "code",
   "execution_count": 43,
   "id": "precise-public",
   "metadata": {},
   "outputs": [],
   "source": [
    "import csv\n",
    "import pandas as pd"
   ]
  },
  {
   "cell_type": "code",
   "execution_count": 53,
   "id": "latin-saturn",
   "metadata": {},
   "outputs": [],
   "source": [
    "mydict = {}\n",
    "with open('hybrid.csv', mode='r') as infile:\n",
    "    reader = csv.reader(infile)\n",
    "    mydict = {rows[0]:rows[1] for rows in reader}"
   ]
  },
  {
   "cell_type": "code",
   "execution_count": 54,
   "id": "relative-contest",
   "metadata": {},
   "outputs": [
    {
     "data": {
      "text/plain": [
       "'mcc'"
      ]
     },
     "execution_count": 54,
     "metadata": {},
     "output_type": "execute_result"
    }
   ],
   "source": [
    "mydict.pop('project')"
   ]
  },
  {
   "cell_type": "code",
   "execution_count": 55,
   "id": "recognized-joint",
   "metadata": {},
   "outputs": [],
   "source": [
    "scores_mcc = {}"
   ]
  },
  {
   "cell_type": "code",
   "execution_count": 56,
   "id": "historic-football",
   "metadata": {},
   "outputs": [],
   "source": [
    "scores_mcc['hybrid'] = mydict"
   ]
  },
  {
   "cell_type": "code",
   "execution_count": 57,
   "id": "distinguished-metallic",
   "metadata": {},
   "outputs": [
    {
     "data": {
      "text/plain": [
       "'mcc'"
      ]
     },
     "execution_count": 57,
     "metadata": {},
     "output_type": "execute_result"
    }
   ],
   "source": [
    "mydict = {}\n",
    "with open('svm.csv', mode='r') as infile:\n",
    "    reader = csv.reader(infile)\n",
    "    mydict = {rows[0]:rows[1] for rows in reader}\n",
    "mydict.pop('project')"
   ]
  },
  {
   "cell_type": "code",
   "execution_count": 58,
   "id": "speaking-committee",
   "metadata": {},
   "outputs": [],
   "source": [
    "scores_mcc['svm'] = mydict"
   ]
  },
  {
   "cell_type": "code",
   "execution_count": 59,
   "id": "functioning-deposit",
   "metadata": {},
   "outputs": [],
   "source": [
    "mydict = {}\n",
    "with open('logisticregression.csv', mode='r') as infile:\n",
    "    reader = csv.reader(infile)\n",
    "    mydict = {rows[0]:rows[1] for rows in reader}\n",
    "mydict.pop('project')\n",
    "scores_mcc['logisticregression'] = mydict"
   ]
  },
  {
   "cell_type": "code",
   "execution_count": 60,
   "id": "exotic-andrews",
   "metadata": {},
   "outputs": [],
   "source": [
    "mydict = {}\n",
    "with open('randomforest.csv', mode='r') as infile:\n",
    "    reader = csv.reader(infile)\n",
    "    mydict = {rows[0]:rows[1] for rows in reader}\n",
    "mydict.pop('project')\n",
    "scores_mcc['randomforest'] = mydict"
   ]
  },
  {
   "cell_type": "code",
   "execution_count": 61,
   "id": "acoustic-bryan",
   "metadata": {},
   "outputs": [],
   "source": [
    "pd.DataFrame(scores_mcc).to_csv(\"scores.csv\")"
   ]
  },
  {
   "cell_type": "code",
   "execution_count": null,
   "id": "norwegian-evaluation",
   "metadata": {},
   "outputs": [],
   "source": []
  },
  {
   "cell_type": "code",
   "execution_count": null,
   "id": "interracial-characteristic",
   "metadata": {},
   "outputs": [],
   "source": []
  }
 ],
 "metadata": {
  "kernelspec": {
   "display_name": "Python 3",
   "language": "python",
   "name": "python3"
  },
  "language_info": {
   "codemirror_mode": {
    "name": "ipython",
    "version": 3
   },
   "file_extension": ".py",
   "mimetype": "text/x-python",
   "name": "python",
   "nbconvert_exporter": "python",
   "pygments_lexer": "ipython3",
   "version": "3.9.2"
  }
 },
 "nbformat": 4,
 "nbformat_minor": 5
}
