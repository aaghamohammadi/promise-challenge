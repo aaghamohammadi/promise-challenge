{
 "cells": [
  {
   "cell_type": "code",
   "execution_count": 11,
   "id": "contemporary-integrity",
   "metadata": {},
   "outputs": [],
   "source": [
    "import csv\n",
    "\n",
    "with open('../scores/baseline_rf.csv', mode='r') as infile:\n",
    "    reader = csv.reader(infile)\n",
    "    rows = []\n",
    "    for row in reader:\n",
    "        rows.append(row)"
   ]
  },
  {
   "cell_type": "code",
   "execution_count": 12,
   "id": "brilliant-salmon",
   "metadata": {},
   "outputs": [],
   "source": [
    "keys = rows.pop(0)"
   ]
  },
  {
   "cell_type": "code",
   "execution_count": 18,
   "id": "attractive-andorra",
   "metadata": {},
   "outputs": [
    {
     "data": {
      "text/plain": [
       "'project'"
      ]
     },
     "execution_count": 18,
     "metadata": {},
     "output_type": "execute_result"
    }
   ],
   "source": [
    "bl_rf = {}\n",
    "pr_names = [itm[0] for itm in rows]\n",
    "keys.pop(0)"
   ]
  },
  {
   "cell_type": "code",
   "execution_count": null,
   "id": "advisory-timber",
   "metadata": {},
   "outputs": [],
   "source": []
  }
 ],
 "metadata": {
  "kernelspec": {
   "display_name": "Python 3",
   "language": "python",
   "name": "python3"
  },
  "language_info": {
   "codemirror_mode": {
    "name": "ipython",
    "version": 3
   },
   "file_extension": ".py",
   "mimetype": "text/x-python",
   "name": "python",
   "nbconvert_exporter": "python",
   "pygments_lexer": "ipython3",
   "version": "3.9.2"
  }
 },
 "nbformat": 4,
 "nbformat_minor": 5
}
