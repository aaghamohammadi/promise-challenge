{
 "cells": [
  {
   "cell_type": "code",
   "execution_count": 1,
   "id": "pleased-guyana",
   "metadata": {},
   "outputs": [],
   "source": [
    "import csv"
   ]
  },
  {
   "cell_type": "code",
   "execution_count": 16,
   "id": "breathing-audience",
   "metadata": {},
   "outputs": [],
   "source": [
    "mydict = {}\n",
    "with open('hybrid.csv', mode='r') as infile:\n",
    "    reader = csv.reader(infile)\n",
    "    mydict = {rows[0]:rows[1] for rows in reader}"
   ]
  },
  {
   "cell_type": "code",
   "execution_count": 17,
   "id": "injured-territory",
   "metadata": {},
   "outputs": [
    {
     "data": {
      "text/plain": [
       "'mcc'"
      ]
     },
     "execution_count": 17,
     "metadata": {},
     "output_type": "execute_result"
    }
   ],
   "source": [
    "mydict.pop('project')"
   ]
  },
  {
   "cell_type": "code",
   "execution_count": 18,
   "id": "resident-tomorrow",
   "metadata": {},
   "outputs": [],
   "source": [
    "scores_mcc = {}"
   ]
  },
  {
   "cell_type": "code",
   "execution_count": 19,
   "id": "owned-simon",
   "metadata": {},
   "outputs": [],
   "source": [
    "scores_mcc['hybrid'] = mydict"
   ]
  },
  {
   "cell_type": "code",
   "execution_count": 20,
   "id": "scientific-nancy",
   "metadata": {},
   "outputs": [
    {
     "data": {
      "text/plain": [
       "'mcc'"
      ]
     },
     "execution_count": 20,
     "metadata": {},
     "output_type": "execute_result"
    }
   ],
   "source": [
    "mydict = {}\n",
    "with open('svm.csv', mode='r') as infile:\n",
    "    reader = csv.reader(infile)\n",
    "    mydict = {rows[0]:rows[1] for rows in reader}\n",
    "mydict.pop('project')"
   ]
  },
  {
   "cell_type": "code",
   "execution_count": 21,
   "id": "disturbed-package",
   "metadata": {},
   "outputs": [],
   "source": [
    "scores_mcc['svm'] = mydict"
   ]
  },
  {
   "cell_type": "code",
   "execution_count": 22,
   "id": "deluxe-closure",
   "metadata": {},
   "outputs": [],
   "source": [
    "mydict = {}\n",
    "with open('logisticregression.csv', mode='r') as infile:\n",
    "    reader = csv.reader(infile)\n",
    "    mydict = {rows[0]:rows[1] for rows in reader}\n",
    "mydict.pop('project')\n",
    "scores_mcc['logisticregression'] = mydict"
   ]
  },
  {
   "cell_type": "code",
   "execution_count": 24,
   "id": "defensive-machine",
   "metadata": {},
   "outputs": [],
   "source": [
    "mydict = {}\n",
    "with open('randomforest.csv', mode='r') as infile:\n",
    "    reader = csv.reader(infile)\n",
    "    mydict = {rows[0]:rows[1] for rows in reader}\n",
    "mydict.pop('project')\n",
    "scores_mcc['randomforest'] = mydict"
   ]
  },
  {
   "cell_type": "raw",
   "id": "champion-wrist",
   "metadata": {},
   "source": []
  }
 ],
 "metadata": {
  "kernelspec": {
   "display_name": "Python 3",
   "language": "python",
   "name": "python3"
  },
  "language_info": {
   "codemirror_mode": {
    "name": "ipython",
    "version": 3
   },
   "file_extension": ".py",
   "mimetype": "text/x-python",
   "name": "python",
   "nbconvert_exporter": "python",
   "pygments_lexer": "ipython3",
   "version": "3.9.2"
  }
 },
 "nbformat": 4,
 "nbformat_minor": 5
}
